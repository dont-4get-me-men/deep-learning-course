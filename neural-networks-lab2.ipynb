{
 "cells": [
  {
   "cell_type": "code",
   "execution_count": 1,
   "id": "d3047e48",
   "metadata": {
    "execution": {
     "iopub.execute_input": "2023-12-13T06:28:47.634183Z",
     "iopub.status.busy": "2023-12-13T06:28:47.632989Z",
     "iopub.status.idle": "2023-12-13T06:28:48.178399Z",
     "shell.execute_reply": "2023-12-13T06:28:48.177022Z"
    },
    "papermill": {
     "duration": 0.563915,
     "end_time": "2023-12-13T06:28:48.182122",
     "exception": false,
     "start_time": "2023-12-13T06:28:47.618207",
     "status": "completed"
    },
    "tags": []
   },
   "outputs": [],
   "source": [
    "import os \n",
    "import pandas as pd\n",
    "import tqdm\n",
    "import numpy as np\n"
   ]
  },
  {
   "cell_type": "markdown",
   "id": "baa24501",
   "metadata": {
    "papermill": {
     "duration": 0.009453,
     "end_time": "2023-12-13T06:28:48.201535",
     "exception": false,
     "start_time": "2023-12-13T06:28:48.192082",
     "status": "completed"
    },
    "tags": []
   },
   "source": [
    "1. - [x] Завантажте датасет, пiдготуйте його для входу в нейронну мережу.\n",
    "2. - [x] Побудуйте щiльну нейронну мережу для класифiкацiї. Проведiть аналiз отриманих результатiв. Чи має мiсце перенавчання?\n",
    "3. - [x] Побудуйте згорткову нейронну мережу. Проаналiзуйте чи змiнився результат.З’ясуйте чи мало мiсце перенавчання.\n",
    "4. - [x] Спробуйте покращити результати використавши рiзнi налаштування (рiзнi оптимiзатори, learning rate, batch size) а також додавши шари BatchNormalization та Dropout.\n",
    "5. - [x] Проаналiзуйте процес навчання. Як змiнювалася похибка та точнiсть?\n",
    "6. - [x] Напишiть висновок у якому Ви опишете отриманi результати."
   ]
  },
  {
   "cell_type": "code",
   "execution_count": 2,
   "id": "224fb48b",
   "metadata": {
    "execution": {
     "iopub.execute_input": "2023-12-13T06:28:48.223368Z",
     "iopub.status.busy": "2023-12-13T06:28:48.222671Z",
     "iopub.status.idle": "2023-12-13T06:28:48.427725Z",
     "shell.execute_reply": "2023-12-13T06:28:48.426241Z"
    },
    "papermill": {
     "duration": 0.220982,
     "end_time": "2023-12-13T06:28:48.431773",
     "exception": false,
     "start_time": "2023-12-13T06:28:48.210791",
     "status": "completed"
    },
    "tags": []
   },
   "outputs": [
    {
     "name": "stderr",
     "output_type": "stream",
     "text": [
      "100%|██████████| 7202/7202 [00:00<00:00, 409325.15it/s]\n"
     ]
    }
   ],
   "source": [
    "path = \"/kaggle/input/coil100/coil-100/coil-100/\"\n",
    "files = os.listdir(path)\n",
    "\n",
    "data = []\n",
    "for i in tqdm.tqdm(files):\n",
    "    name = i.split('__')\n",
    "    if len(name)>1:\n",
    "        number = int(name[0][3:len(name[0])])\n",
    "        if number <=40 and number >= 21:\n",
    "            data.append([path+i,number])\n",
    "df = pd.DataFrame(data,columns=['path','label'])\n"
   ]
  },
  {
   "cell_type": "code",
   "execution_count": 3,
   "id": "4091da46",
   "metadata": {
    "execution": {
     "iopub.execute_input": "2023-12-13T06:28:48.454194Z",
     "iopub.status.busy": "2023-12-13T06:28:48.453581Z",
     "iopub.status.idle": "2023-12-13T06:28:50.035266Z",
     "shell.execute_reply": "2023-12-13T06:28:50.033453Z"
    },
    "papermill": {
     "duration": 1.597559,
     "end_time": "2023-12-13T06:28:50.039547",
     "exception": false,
     "start_time": "2023-12-13T06:28:48.441988",
     "status": "completed"
    },
    "tags": []
   },
   "outputs": [],
   "source": [
    "from sklearn.model_selection import train_test_split\n",
    "X_train, X_test, y_train, y_test = train_test_split(df.path, df.label, test_size=0.3,random_state=0,stratify= df.label)"
   ]
  },
  {
   "cell_type": "code",
   "execution_count": 4,
   "id": "669238a9",
   "metadata": {
    "execution": {
     "iopub.execute_input": "2023-12-13T06:28:50.062546Z",
     "iopub.status.busy": "2023-12-13T06:28:50.061978Z",
     "iopub.status.idle": "2023-12-13T06:29:16.907728Z",
     "shell.execute_reply": "2023-12-13T06:29:16.906092Z"
    },
    "papermill": {
     "duration": 26.860205,
     "end_time": "2023-12-13T06:29:16.910524",
     "exception": false,
     "start_time": "2023-12-13T06:28:50.050319",
     "status": "completed"
    },
    "tags": []
   },
   "outputs": [
    {
     "name": "stderr",
     "output_type": "stream",
     "text": [
      "100%|██████████| 1008/1008 [00:06<00:00, 151.31it/s]\n",
      "100%|██████████| 432/432 [00:02<00:00, 156.93it/s]\n"
     ]
    }
   ],
   "source": [
    "from keras.preprocessing.image import load_img,img_to_array\n",
    "import cv2\n",
    "X_train=[img_to_array(cv2.imread(file).astype(\"float\")/255.0) for file in tqdm.tqdm(X_train.values)]\n",
    "X_test=[img_to_array(cv2.imread(file).astype(\"float\")/255.0) for file in tqdm.tqdm(X_test.values)]"
   ]
  },
  {
   "cell_type": "code",
   "execution_count": 5,
   "id": "77fd590e",
   "metadata": {
    "execution": {
     "iopub.execute_input": "2023-12-13T06:29:16.951115Z",
     "iopub.status.busy": "2023-12-13T06:29:16.950034Z",
     "iopub.status.idle": "2023-12-13T06:29:20.833895Z",
     "shell.execute_reply": "2023-12-13T06:29:20.831865Z"
    },
    "papermill": {
     "duration": 3.907503,
     "end_time": "2023-12-13T06:29:20.837629",
     "exception": false,
     "start_time": "2023-12-13T06:29:16.930126",
     "status": "completed"
    },
    "tags": []
   },
   "outputs": [
    {
     "data": {
      "text/html": [
       "        <script type=\"text/javascript\">\n",
       "        window.PlotlyConfig = {MathJaxConfig: 'local'};\n",
       "        if (window.MathJax && window.MathJax.Hub && window.MathJax.Hub.Config) {window.MathJax.Hub.Config({SVG: {font: \"STIX-Web\"}});}\n",
       "        if (typeof require !== 'undefined') {\n",
       "        require.undef(\"plotly\");\n",
       "        requirejs.config({\n",
       "            paths: {\n",
       "                'plotly': ['https://cdn.plot.ly/plotly-2.25.2.min']\n",
       "            }\n",
       "        });\n",
       "        require(['plotly'], function(Plotly) {\n",
       "            window._Plotly = Plotly;\n",
       "        });\n",
       "        }\n",
       "        </script>\n",
       "        "
      ]
     },
     "metadata": {},
     "output_type": "display_data"
    },
    {
     "data": {
      "text/html": [
       "<div>                            <div id=\"beb4898a-7be6-466b-992c-36cd766e653e\" class=\"plotly-graph-div\" style=\"height:525px; width:100%;\"></div>            <script type=\"text/javascript\">                require([\"plotly\"], function(Plotly) {                    window.PLOTLYENV=window.PLOTLYENV || {};                                    if (document.getElementById(\"beb4898a-7be6-466b-992c-36cd766e653e\")) {                    Plotly.newPlot(                        \"beb4898a-7be6-466b-992c-36cd766e653e\",                        [{\"name\":\"0\",\"source\":\"data:image\\u002fpng;base64,iVBORw0KGgoAAAANSUhEUgAAAIAAAACACAIAAABMXPacAAAwkUlEQVR4Xu28Wa9t3XYV1lrrY8xV7OLsfcrvO+de1yGgCCUEgQ3GgMKFIEQKkCKkKEqe8pDnKFJ+S55IAhZEpnggicBJDDbYBptry8jmXl\\u002ffwverv1OfXa015xi95WGscxPxA9gvu+vo7L1XMdecvfXeeut9jLn4I3\\u002f0j30J3Pv0Y9zZbRg\\u002f\\u002fPDDf\\u002fOxO\\u002fu3aPo3H7izf7t2B8At2x0At2x3ANyy3QFwy3YHwC3bHQC3bHcA3LLdAXDLdgfALdsdALdsdwDcst0BcMt2B8At2x0At2x3ANyy3QFwy3YHwC3bHQC3bHcA3LLdAXDLdgfALdsdALdsdwDcst0BcMt2B8At2x0At2x3ANyy3QFwy3YHwC3bHQC3bGX8yGwgRfSeJG1HhEjY6SQEgjai2plpEjBCINBskd2EHQoShJuBTIjptEGCJAFlSkWETRI2RNBu7iRBtt5FQUHDgt3HKUkECNsQx8fDtknRnQZJKUhnZkcQ8DgmIDHTtkMaHzuO+QMvUCKcPfX+g3rvihCRSZKSggQQjKAYktxbLtnn1gAAbr2DMOBMgqnxQQAQEpgwe3Yert0wSRQ504Bo0wCodJIyYBjIEDO7IAc7G+DDuZO2CYJMAASphGE4k0GKhkVKMuyeJCw2+JB3Bm3ABBLAOFpEJowOgCi2GAoKhp0ACcAGDCIYoEHBoNh6CgMJwZkH0PmDEOiADANkkBBFQKIzRWmaBBQGAVQURQkxtDnebDeb87N7Dx48fHz\\u002f4aNHj+4\\u002fePDg\\u002fvn1zfUv\\u002fOI\\u002f+flf+idX+9lJ2+OyFAFYaYAjRm0YAkAVOAEEA0A6+fSDD8CBDAETopSZBwgxwg4wAFMBOxOACZYQ7MUmQBFwpkki7eEEADBMO2EwNIJ+PAiCEJyAKdJO24QgO8fFABBHKo7wgknBxggUgoStkRumxENawPR4PgiTFElCEuyQJJYoq\\u002fXqaL05Pj46OT453m5PT0+Oj4\\u002fPzk\\u002fvnZyenZ8dHx0fnRyvplWJKKUQyAMTqIS22yOFfvlXfu1\\u002f+ut\\u002f\\u002fbvf+b6i9N6XvnQj3TpIgKTzcFmGbQN2Qjo8y2cffmigI2UNDwCQZNKZ4wKRkCDSIGCAoJFMWyTE7CMHxnMG0Ikg2\\u002fugwHgPgRzcc4g+EgDtJExAigGViR+c\\u002fbgQmGbGIKLxOQCAojo+kQTBWgrJIAs4TdM01fW0rlNZ1Wm9XZ3dOzk\\u002fP3\\u002fywZOHjx7fPzs\\u002fOjlerTc1QgWijOEXBiHYGDDSAM0FXYdgAHFIHU6x2h69ePXmf\\u002f1ffvbnf\\u002f4XdrsdjZZLS3dkz+yZHJFIOD1+J0Ege5rkBx98QBLZOkhDGjkzCAoAkB0ApcP7kfn\\u002f4\\u002fR8n+iDm\\u002f3e1TIJ5\\u002fATCdJ2pkUAGIlwAA0xQpI\\u002fcKszQJLSeDkAlyiWAJAKoihqlCCnqig8u3f64MH9Bw8ePn78+OH9h+f3zzbr9Wq9Wk2rUkopChZWGgYpDbKFoE5gpAxsMCQaI2NGCMJWCCA83jT8SAJpK4pD0\\u002fpkVVb\\u002f7Bd\\u002f6Wd\\u002f9m98+9vftni9LM10Zrd7T4yYzj6cZMPZR1nhV55+YI\\u002fKCgDG8KYNREgHugBAAg0mAQUAjPpMBg5hPtwzCoPHxaoASYv0AHW8EgDBUBCULHJckg2mJU01aikRXG\\u002fWp8cn5+dnJ8enp6fH9+6dbo+Ojo+Pttvt8Xa7PTrartfraapTCQGCARs2SEQcKoGBJEDyff6OEwCMNAgwYAvQoE+QRBKEMa5kvNsehJZJw4IG41LYrMrmaPvpF1\\u002f8rb\\u002f3d\\u002f7BP\\u002fz5dxcLVHPeO43smR6OH5mdPyAGg195+gGA1tOgMGA2RyyP15ECMU5eFDFqgKihGLo7YSmGd8cHBEAyosZIY5JkDRJUqESsp\\u002fV6s5rKtN3UzWaz3W6OtpuT05Ozs7N7p6fn98\\u002fPzs+3600pEVFCktSVOFyDQVoQSMgGlQQBjpgorIBtjxSybY+rNiESpDKHTomReeRw\\u002fAgUj8fgPGiJtEM0kibg9x4asWchaZQybY8T9f\\u002f5hV\\u002f6ub\\u002fxdz753kel5NKWpbc5e47Xg701e1R+Qp3Pnn5gojfzUAcBIjODwKisPPDRONFRCcaJkgyq1kIgokZIDIUmlVIcpZbg0WZ7enx8fn52\\u002f\\u002f79x48fPTg\\u002fPz67t91up7qKVQikBKAWiTjoXVCFPMSxDfLgR4RoEvbI38y0FUGZoHtPAiYKCo2EAYg0092kQ9ESgq3BkQBhW+MX2LAow\\u002fBw8nveScACQSUwcgogU6DdCICwImI1HR1tj1988unf\\u002fLm\\u002f9X\\u002f8o3+4a21ubW4JRmsN6AZGMHDE81efPu2kWzMgEkaKsA2IIAibVDoBMMYrnJkyMpftZvPDP\\u002fZjf\\u002fgP\\u002fqEPP3hyfnZ2tN4eHa3W681U61TLtCpVhRJDooZe9WAbwIIoQM5BzRi6ZcQgMZ61KGCEPoABkgUd4lTjLcR7wODBgGkMPDUeFgA4CRLZhxdJ8uDeEXoEAIMS07BTEgAkTMtImTBHdgzWBgyQBgIAGRF1s56W7L\\u002f0z\\u002f\\u002fFX\\u002f+f\\u002f+bvf\\u002f+jiLrM3X3u7plD6hggJD57+jRtwnkICRwug7AhQhwfPdI4SWSi92XpXdJf\\u002fkt\\u002f6b\\u002f4K3\\u002f14b0TMUNQkKPXoRMQi8SR0oJGcI1cPFy6MWgR46\\u002fEKDokYdPjqXGypASnIZEkPcI0zB9wKsUhYaUROAAwLhbDtyMjAB4wMmmbGukP4sBVJPrhoCAtKgFnDiof2QAfarcIpDtSDIhgFiLqNG033\\u002f\\u002fo07\\u002f5sz\\u002f7T3\\u002fxV693ewKtZ3dv3f29li8SpJiXGXrvCqB341D8ZaJnFpFiQcns6S4Fe947P6nrenH97vR0qlFUqsmQYIis40rHZRAwZACkBtcNH4DjyTz4mUgDzBToCDhtj57ikIVMw5lUSIAp\\u002fEAGAJkwSIPigdBouwuC6EwjQcAawhzuJZSmD2xjaAQPIkZNlIcMhKAABuyDjwAg5CUdQSK6E2kAHbCX69YfffDBf\\u002f8\\u002f\\u002fI\\u002f\\u002fwX\\u002f4Sz\\u002f3d\\u002f\\u002f+97\\u002f93URrvUEdaEMT8tmzDwHMOR+iHwyIcjo0nAHABhCURMFOV\\u002fHZ02d\\u002f9I\\u002f8kWdPnxyfnTx5+uTRw0ebaaoqzi5KyqD68AqIAxcPDSfxENmZJkKAARAi7W4cMsDjcRCgJI4pCZMADgELizwgbSko9t7oAozIhECk0ykGdWgzJBpwuqMTzEiSBDEktkdNMWFSozyD6L0DlACHR80Ow+jZCVq0s3cLAQAR4xU1yunRvY8\\u002f+uhv\\u002f29\\u002f6x\\u002f941+46W1u7r231m0XQEYWVpLvec34waRkfDZYpWK4LW3Z\\u002f9BXv\\u002fq1P\\u002ffnfuonf+re2fn15btPP\\u002f30+vXbfnyGmBIupQCA0eHAOHNQxGBlwunRwUkRZIdHDSAME5ZtcjzC4QKY2UdHBjpAOzGIaMiS4b0RmkXTAVINr2rQvxCG8zA0kO3sKQfSaRyYikQC9PuiAlrCSL4MxfvCk06T6hhBEgbYM6iiQ7fc0JWmOtyvdi++8iMP\\u002f+v\\u002f7r\\u002fySfzc3\\u002f\\u002ffF6QJSOitiOzgOOHsxoB4RI8dKiKQid7mzGcfPvnan\\u002fmZn\\u002f7pn77\\u002f4KyUWlfTZnPesHzx+WdffPlpPH16dHScCYIRh\\u002fZv8DhTgAMcBRTjYpFIQFAwMUIzJcGDvj0KsNNGihqVeZDaAAUAxmMkwVJKFE3TWmUqUgeduSx9ydZb7lvPbD3de4Ohoa5FHeDTAUSYEABBo4uwEAxD+b6VtE0hPUBNBAg6aZognRguJQwsbcksb3FzdPTwv\\u002fxv\\u002ftvmk7\\u002f7d\\u002f9eutWiRhbQMue+AHJ2kJWFTrQOskSgpVt\\u002f+PD+X\\u002fyP\\u002f\\u002fwf+8mfPLt\\u002fPE21lhJSQcaqPn3yuKB\\u002f9sXz1y9eBrVerac6JQBAPlSlQ3QTsLuHsOGhyjFHET0EARoAZxnz0PfvC8NEMQwgIAN2p4XoIZVSN5tNqROIeZ53+\\u002f1+v597LvPSWjq9LMvsnq0vHYRbz\\u002fQI30xkKWWqdVWm9bpMZSpFHBCLJLJnZ5fBYDE9ChgONZsADA1davY0R6OaXRKShGCiu+1vHhyf\\u002f7W\\u002f+te+\\u002fOj5P\\u002f2lX6y1hlkm1oYlyAF9ZqL3kFhKIa6vr77y4Yd\\u002f\\u002fs997U\\u002f+1E\\u002fePzurq0C4hEKDyeXkpq4fPXgyz\\u002f312zcq9eHjx9nbxCDQ7VHbheFNgyAIZHoo7kQf0T40DhAaQTmICcKIqpHYAMAD5xaGIspmvSoTozj7zfV+aa0tfbe01tqS7r21lpm9957OvrR9t7On0d2zZ6bT2bsDVijE7Xpzenp0crSRSjFJj14S6gA9IDEGIaYbSYCJMZIhR9HoxiihPuQa3d1y2b979JV7X\\u002fsrX\\u002fvNb\\u002f3WR9\\u002f\\u002f\\u002fPzkrCQjaHt2WmSIU0RvLXu7\\u002f\\u002fjRf\\u002faf\\u002fid\\u002f4k\\u002f81MMHD6JY0xjZw3Yis6dCYszEart58OiD3b69ffVmWzen52cjuwEAyHSOecMhww\\u002f82g\\u002fl9FBn0qNSZx6A4KEWAONAOehmvNbKgtV6KrWmvd\\u002ftl7ZvS8\\u002funr11pDuanZ02baadOU7ccE+33p1ees\\u002fs2XOfSYPw5cXV6zcvzu+dPX70UOspSFgAumME+0jLwYyQRhqRo2wZQPYkMXoVYAhc9yVFljpvdfPH\\u002f\\u002fAP\\u002fcxP\\u002f7t\\u002f+\\u002fNvLNFKmxYucFpUiLTbvH\\u002f48MFP\\u002fok\\u002f\\u002fjN\\u002f6qfOH5zVSY5dI\\u002fvig3wxJIoRWUDEUlS02dZHj88+\\u002ffiT588\\u002fZfHp2bmskDVYDoA9CisSGCw78sGEEwRHFg7BY\\u002fd0DMInkB2j5QV6pqVQTHUlxdzm3vrSe+vDEh7wZksATLsnTFrsCwxk9uw9e28tE50AmERvTmfC2M25n19SePb4cdTq6DADg0cVomHbSNsjKUWQotPpPJDpQUm5ucFIRxfLIl3hR08+\\u002fLP\\u002fzh\\u002f57Xu\\u002f\\u002fObt2\\u002fKQ5YINpfS+eOn37t37mZ\\u002f56T\\u002f9Z\\u002f7Uh195ZC+ffPrRt7\\u002f3u5eXb\\u002ffLtbgQbSg122JpybOzR2dnT588\\u002fvD++aPNarM+O\\u002fn808+uP959NfrZyZlRszWKBQI8QkQU0gmOCQIIWE4TMMhATwQ5Qs0E0hSk6ABGlwTTRmZflqU1O9PJTNoFMrJblJVuNgUZPe1MBmRQpCQ7iueu3g0wE9nTyN46elvm3duL6d7Z2b1p6plBSgRAeAyAQZMopJENINwzI6Qkxnw+m0GKQdgA05l7j5b66MGP\\u002fcT60VcuXrcyuwK57C\\u002fXq\\u002fXP\\u002fNk\\u002f\\u002fbX\\u002f6Gs\\u002f\\u002fhM\\u002ful7HR5\\u002f+3q98\\u002fRd\\u002f\\u002f6Pvpvfzcg3sGY1o6RajNkFgfPpSyFo0hVZHq6OjzfHR0enZ6ZPmq6\\u002f+8E+c3XtYGeECEqAGmTiHzm44TKjIoVgBEybJwacGnAnRRroxxAAhGhAGhQ+MCNjQQblQ4QAVKE2Z7kRLM1a9tR69N5FdpOeUYWR2kxCY3eze97ZSTCXWEYWHiR6QHE3gDz5xXAIPy4dSyQ4QHGufEHIMq0SMxRXRJaAirFZlNbH5qljZpVXwr\\u002f7nf\\u002fkv\\u002fMW\\u002fcHb\\u002ffNeuv\\u002f4bv\\u002fmrv\\u002f4LF9efzv1d9w7q4NKXBqMExhroOCkbRZQLs77Z8dWrQE7nD7764Qc\\u002fUUqZIk6P72V6didUo\\u002fjA6YRRcKAdHFYqbHC0y6M1lahQZvowERp8BNPI3jFWjwUYM2QjSAY8sgSJwJSj3rqz2b31uad7X1prSyMifdPbkpnLMi\\u002fLnNl767DvPbr\\u002fwZMPV+tNvhdyYGrERTjt7jHhlk2gQyDGnJ4JeLQ8kiin0wZFKxiFIcT15c3+psFRBBTg5NEHJ\\u002ffOVCLhjz\\u002f5\\u002fj\\u002f\\u002f+j97\\u002ffqzjjczb8yl94aACJMdFukchROg0+hegDY4BoxPv7jezzfLzX4qrF\\u002f5seOje6SQyuYoMWqapABtpxPD5QOWZMpwJ5hpCeQYiJmuiQ6MJoF8P+EFCCbJUExTFBWJlEZZyzQoJGfbre979taWpS3zstvv317E8nLvOdET6WXeh\\u002fHDX332lR\\u002f66vHRsTRIM22KSHRbAggWRWYSMKwQbYPOBCwGhbRJjaAimM4IVNVSqlu\\u002fubxobV5PtfSemX6923\\u002f708+ffPTp0w8ffe+737m+eXvV33HadS49x6gamQ7AgIlSUItaz9YAoo9JoA7FD6V98vJb+z7vuXdtzz78ke3q3sQNKCdgM9h67ySAQsGZTBIjswWAOhBnIjQOjWRijJhtAwmLyj5nZiCmqW4229V6KlHGdKP1dPZ9b\\u002fNunuf93LK1pXXMy7L0DHE1TcfbzcVrvb252N3crFarH\\u002f\\u002fhH3724bPVqpRSpBQlUgPlHFEAg8boIaGRxGMHgSgR5hhvAEykfWgfAYBkoWu8nW++\\u002felnb\\u002fdtUS3dMBCML1+8\\u002fNZ3fu\\u002ft9etX+6svri9cwpmiRYKAIY2fMNATfekwc1AKsQDDgS508zTlixcfA1rVuqrrD59MZVqbwGg\\u002fRVKZidErAGM0RpKEbSYo5kHJ0sjxg4AVxIgqOA0zGB2eM9VbziCX7G69Lb231tuSc1va3JfsbV7mZbQH3WmRV5eXu93V0w8ePf7gydH2qJYAjPd9jkCQY3kdo\\u002fKMmnOIEtAJHmhznJRHf5MJIggLzm5DEaVELbFSfP7F568++RTXlxu5BHpDC63m\\u002ff7j7388z9ev3n6+mVbX+yyhhA0DzMNSAobHQ6DGeB\\u002fm+xcRAAzUgmyYpvnVi++u1TcVR+soZ4jpzH0aYQInDugO\\u002fYNMIE0EhRyEnyCc9GGac5h6pgEbAESZI0GYxn63b8sMY8yXevdotugu9IoeE6aoQImo0zRFrQgh3e1CSAySEqj0uFw4k2B3HgIRmTnOBgCWtACGAeDANqLTsCAYHlsXFCpFpWq9fnd18\\u002fmL5x+\\u002feHmValqV2WUsxy+97\\u002fv8xYsvrJvL+ZIl554SbGhEN5BAjDkA4A4SEvL92XB4FVgACiwQ\\u002ffHz783usar\\u002f\\u002fr\\u002f3J8\\u002fPWHVcNaVCjCKlodAoHuQoXckUIg9HJGAzkGmnYCRSIcOhSKTAzIRGD6Tehp51SCy0WFnEmk6AvfcAeUA+DHSBwTBIBDW0vYAADdAejS2lEN1zTCeMQ69bwzYwptljNxuUSMCGevZ0DqVQ6lTrdHlx8eLVq4ury\\u002fVmu2RvLQtJsszL9by\\u002fOT159gf+4I+\\u002fev3Ru+vPd\\u002fNbFqQQQQE2nCgADAKHqOMBHnFMcCBBRHYkYSFKKsq765e\\u002f\\u002f9G31quTP\\u002fQT5exUUQerMk2SmRBomzisPg0X8AcCiYd9bYBJlvEiQqMg0KLHMYbYgCGmAROMANAyAZKMWnq+rzG0DVmgh77ttkkCLTtGqziukLDdmkcY0gaYsnPMx40h2BS2mztgGIkGmyp1Wk11QsGbq3dfvni9zK2uN4DlLMECui87G9O0kcqrV2+ev3y3u2lX+6bSbZdqBosAIQQQIjD+JaBDN84cMYOeKAUTMPJxfVKz6fXF59\\u002f8vd+i60\\u002f8GB6cP13BlkuYFo0kyDHAMjVcPzgGIGBQ5IHg3DvAFMNdwIgFAoYJ2u4gkgKMHiPwodG8wsOlgAyN2ijj8FEWQMseLA8gAJv2WMcUCKThzPGXybQNUzScOeZCgAmAjDJFRC0l7P7m9cWr16+ur\\u002ffTamLvaEs4YZaAa9R9b6375np++fzt5fX+ZoebPebeSJBQQEAQRVCBARFRUAIMRCDGqgohoQggWL3dVLHeXO\\u002fbsiw3N+T2G9\\u002f+19c7f\\u002fXZzbMPf+h4c1qTRQw6pAT4\\u002fkqGkj44AYfKh0OCjYaBo6M0x86eHIvVoz5lwjRgYUhb0HZiUEwHxaFNaThMgDlGCACYNojh7Q6OqOLgWY+gomBCphFBWmmPJwMCYbFQKKXWEipX11evXrx5+eZ1LdMPPX12en7vzdu35+f3llxMFY98yUzkbp5V1FPrev7u4tKttbarEzvS5JIHd49p64EJBBEkKEjvfwlsjrl4ydZoz3sA+Pz5F70ftf77F5f56vXlsw+\\u002f+vjBk\\u002fVqtYp1R4YsauQQwBHwPtR3pggDdAfGEoxIgDSGfhVG6AGi4HSKB4Vig8EQjU5ApL2IAigfPicBEBjpJ9EJ4iB+DsfF0PzAkH3j8QHMeBQhAQgV1VpLoETL9uLV65cvX335+ZetzU8\\u002ffLbv\\u002fc27i4ub3b51lamnywiOWgsSdmamGEgH6jwrYputiW5YhjOyHzJgeDzzfUIERCSQRqlYZmyPEPJmqvdOVteX+6W3Tz7+Xntc54breX7++u2TJ6+ePv7g3tnp6eYogiEFWEsMapaIEIxMsxM0OGjedA7CG14jkJEwJOGwSdIwFEZPSB5il4dnCMKAbbjZMCjTMJFIZ5fE9FgTzoMmFiHA\\u002fYCH\\u002fz8wDrgHFaWUUmrUcrO7uXp3dXVxeXl9\\u002fd3vfut3fud3nn3l6Qc\\u002f9GTmEjG1ZhtI0Cik4EYRQm8ecSHW3joVPRth0FLAFDFIFgaNXA4ZAKO14Q1ImBdMRNno9GgL9Fzauhad9GXNL1586+L63c3N1eNHX7m+vvryxauH5w8e3X\\u002fw6P79o6PNqtSeGZSY8ghCkmO52wApjoozvEAMEWQkCWenhkQBDbuP9TUcdm8nQbDDBEkJzveNjIlMDAVhMBOwe4AeusdGugs0MVjtkP8UCIamWhGRzv1+fvf65fXV7ma3v7y8\\u002fM63v\\u002fP9732X5HazncpUqGBut0WyvWSiwA5qzi6GqjpgsWdDcN73ImYaSvTOMMFBBhhXCbiDQiY0ijOQiSLMM\\u002fZzvtvdTEXui0SuY5pwtt1evnn9+RcXr958+ZUPf2Ser28uLj7\\u002f7Iuz0\\u002fMH9+\\u002ffv3\\u002f\\u002f3tnpNK2mokoWsgTSKUKg+5j0jK3dGPUiqBDyEInGGPBxhCZGtzFo\\u002fUA3QcI2E\\u002fBYPk+DFDmm+KQHyY7uT0mJgrpGPYAGfGQtEyMitDiX\\u002fXxxcXF5cX19cz33fvnu4pNPv\\u002fjiy8\\u002fm\\u002fVxX66PV5v7JgwrREJV2KQUCwZLOTDcv+\\u002f2+zy3WzFBEgTWVmn2mBIw1OLRmEsIhBoRBshQBwUbvSEIJARcXmJe+WmcpBBFqQUzk+dkmF+1vLj\\u002f6\\u002fd\\u002febh7cO3tydvro+ubdqzcv6sfr05Oz89PTe+f37h0fb9brzXoqUgl1mLASgNlM0iTB4SbnmFnKAxyAJHjw9WE3CRNG2oTHMroNeJQPdwJpk7CYtFPSgE0EwYAZijKVUqSAOM\\u002fLzc3+Zn9zdX2zv7nZLcvNbv\\u002fm9ZsXz1+8eftmWWYB2\\u002fWqBB+enZ2cbqhBUnUqDR3MoFnESHZ2oieSyghExFRVmi0ibdsRAfdRfg+5bJjv+5SwEzlkCmCjLciO\\u002fY5RvdmyTlhNcHToqkRS5Xizzob9zYvPvnzzxYtPNpv7p6f315uTl+9efvbiaLs5PtpsTo6PT0+OT4+Ojo42m9VmVaNUFYVE2qN8MkEAUhqEnUkgTHMsA4Gjf6QGLwEc6WEDdiIDgoP0mNwzBFIIiyLJUAlJlADMLa\\u002f28\\u002fXVzW6\\u002f2+3nfVuW3Xwzt8vLi1ev375+9ery8pKhIq3Xq6mUWup2M91\\u002f\\u002fEjrul\\u002fmY3o1reZ9i1oAkCiAgdzPy+LeiQ4rioAokUuOmaUoZtfofAwLhu1xa1AqEAZFNNvjFciDHERPLA3rNZYJJ0fs1eK+1i55tV6tt1haubh4++7m4vnr725X98p0dHbyZLM53a5OptV2vVpNq+lovdms18dH6+12e7RZbTab1TTVaYootbCKsoevR5noMGwY0mFM00kOoSlS7OnhVHOApFFmE0mKJQCYMjEvfbna7\\u002ff7m\\u002f08L8t+P+\\u002fb3FrrS9\\u002fPy343v3n79uXrV7ubGxsRKlOtpdQybVZRg1F1\\u002fuD86Oz46manWupqW6ZaVmW1qgrbLEVuSdTD2Gc4V7Vmuk5T77tBlxQSUAPf1wAQHOlLpIEEA9kHJQBwAk73hii4mPHgXPudN0Rnnp9tH3\\u002fw6Hq3e\\u002fP64uLF84ZqoFbNy74t68\\u002fevTRWqzg5Obu\\u002f2ZwcHZ\\u002fWul6tp1rW01TX01RL2a43U41ap\\u002fVqmkpZrafVajWVKWqIpYSriiYFx1YqAt1QiOjBbip6Z3pM1ZlenF5a9szs2Xq2tsy99XlZWtrorc3L0nvb91z289XV9bvLd9fX170devRSSomIiKnW1RSTooai4tHjRw8fPnz39u3Fu8tH9x8e1Wkl1aPj081mrbpfWglGkfp+8dLDmBR1mq7fcYpytbSRrABtwPChbxjZKSCzZ3qEC9A5dIJtALKbCbt3l+Dbd3n+oCxum\\u002fXmZp6\\u002f+53f3+2Wmys7sb9ZWkdfxmFupLVQs1\\u002ftXrxSTHasVke1bI6PTtaro+3R8Wa1jlJriVqmWmspJTTVGpJKlIhQMCKiDG1YIxQI1ULCOGx0BMfGLPbsCQJEptOAu+HsPZnZ+9L3836\\u002fu7lZlv1+P++XZZkJSCQQRRGhqLVEqXUqpZZSiCiaIh4+vn9+fn\\u002fe3dy8vThd1dN1rNZ0NabpyY\\u002f+6DJN767n0iAyC6Uh15rnPtNscy8xNuAh3Z0Ce+sZJBigMxN8384Yfh9NIgz7sBMLdkeyOevEdxdtSdzsb4YEyObW0WY63RuR7h3IOXNR1GAEY5qqFLv5zbyv19dT0WruuVkdlTKtVutpWq1X2zpNpawjopZao5QSilqjOhSjapFTTLUUhULBGGM\\u002fhCI55m8A3LP3lq237F7a3Je+tNZ6yxzUmwCkiBIlyjhQqZRiqnXslIoQqVWJWvXBk8fb46Pd9c311Y2irDbb46OTyV63G9Xlj\\u002f34wz\\u002f8I9tf\\u002ffo3SlndXN047Z7et2V2ltBuWRDRMkPKbIRFErUTtGHChplyMIw8rI24+31TmU6y0EzYaUi9Jan5OrmJvmQITvQGGNkhoS3AYcVF2RdGT6jt9xx9HxURpUSy9LnGUq\\u002fnIpRB6mApivEapMgoKqrrUETU1rqozbQ5Pj4tZSolAEkBY8meo4ABADLH8BKjUEsEVUoZY0KJFAsxxTSVwlCUmEplqJQQGEAt5fzeyYP79+C+v7zIuU1wTOXBvZP1StnbTdYNtmcnP\\u002fzk5A+U3bfLdDMZfunL3bzvS2M6xM1qVSQpep9HQeXgIoNwMkUBDoNMMOGWSXC042y9p0EnQJKHAHOkkS7LgqroPUkPvW1jWQATEMBEAsyeHC0QRlo19YWNFiUxCbJEESIkcQxthx8pgkSilDK5s3cv+zx\\u002f8DTVt9t7aqGoYgcQqgF0MEQbZaowKUdo7IQgNfSoQiHVKCVYQyUiohQyQgwFQer0+Oje2ZlqLK3bzZlBpNvRdnO83aynVVlPSPToS\\u002fS+9hWXMkczCruX\\u002fX5pi+nu3pEQOO5sykg7mSQpGCZgdIBtdJ0YcwPZzgQ1bhIwjI4cAs7utJlEz4hCGoAT9sFnIiBkmjY4pgrsTCRoFwpwYxdEqL2\\u002fnaS7K4xm+DDWEYZ2BGkJSxdR5KDKMlfoNLUtERRBSQEVAFUIRUiARQ2he3A+JWGQ12AekSGWiKIIwdlr0b3Tk+32qJRobWk3+3FFlAivj7ZHR0eb7cZkJsCgsZvn3W4\\u002flVrI0ls3sdvt3rx7c+\\u002f+2bZsO9KMZPTsdiqCZG\\u002fNSIkwYJICk0kzM5nuJAipJYAkjOyJviREgOi5rkS656IgYJMtR0sKj1WEtEGCHrcogAqOjaEJj+4JgBQ9szsDao2iKCYa4UQSorttNUoMpdOBdVQfHdVaWevkLBFFVJRKUhTwPpUYAkCUWgRCGkVdRQKLqCIxCEiq6+l4e3RyvOmZvfW2zARLVIyUTbOUo6PNyfHRtFqBMpISAs9fPf\\u002f0+ecLURZryUxwt7TdbmktmUGVzK4iLwJHGcggqQlIwyQAZBKGkxDp0nsTkMQoVzY41pgSgBXK7lI1vByKlp0YXo225HAuAJgeWgVpJ9AVUahOEu5GcgxoZKZHC44u2HA6Ay4F7rBMGaRK6cuyOVoR\\u002feho0xrqNIkByCoiSUsqjJBGGyBIRTpkgEQVBWRCArbb7fHJUS2V2XtvV1eXCmvEKQ\\u002f9eglGjc1qOt5ujzfbqZZaRMlQR\\u002fnGtz569bodbR4UoRSm1Gn2Po+2Nud9KJa2I7vRgyTldOuLCBsQBJEmTHCM86WSOWiFAO2xS1IREgF00Mvctkcr9zb21QhAZ29dQAImjSQgU05oTDlo5+G2DUKggIQtwJAaQKd7pkQKHcbhSyJIugNyPzq919xX29W+Ldv11mkKIkuUkEjGCHJCFEOSQmMyxyKVWqdV3W620zQVKYFsfemzYIpFNQKDrEISQLAWrqfVZj0dbTfTpPVUo0QggtPzz774\\u002fJu\\u002fE5fPz6IX5nXLLseSHTm2Ey+KsvQ2lfWy3IBa3IbuCUXvXTAPN6yBFGECmYbH2ihFtOyEKQHZezY5yG5PJXbzstkUOOGknQYBehQdyzJgwzIQAg2ojEF0vq9GCBXQNtIYO7QiZA+tiAbw\\u002fZg2mFLZzzdPtqtl2Z\\u002fdr25LKUVgjSlUKEaIIDXmHIpAiaIStZbNarterSVln3vvfb9LghCY5X2OhCCoSKWIVikspaymWK2mzWo1rUqtlUUUHbiYr77+e7\\u002fzy7\\u002f9W1+2nlK5XmSw2Qnu5rbbLdt93+\\u002fmwtKWnonhUR9CGzqsfAJkiK03A0FUjcFiwu7IZBBhgzAA2N05qfRcWNS6Rdh2AkZvQJRlabBKLU5nNlmZTntEsqg0gXE3B3ob01koFKP+d3OkHpEBJHqCMd6szeZ4t9tPj2tf5s20AVDEIKKyUFFLrXU9radaoxRIMJwdQGa\\u002f3l3SIKUgMAQPIgqjSJikUiVQVBlNQlUtnNb1eLMuUeoUoQAjqbn5k89e\\u002ftqv\\u002fatPPnnJXsohtIBK1mBv+88+\\u002f+Ri9zYCN\\u002ftdR3Z3INmTNMWW\\u002fT0nWGBmkqoScLj9UhQl9D7qgPPgO9MEs7VpsnqnACEIFCzNrJxbg5TJpcHphAVEFe202Wwmwk73xSFE0dBPY7pJ0IdYEYzoCQDEaCtYI3serbfruj67d160LbEmSokVFAGVWu1MZ89s+z0gSVKOsWdAHF4nJROMEqUMpQpFiWCJmKIqWBTTuk5TrKeplChRRlaZ2C9+\\u002fvzVr\\u002fzTX\\u002f2Nf\\u002fHr+8urVdG+t5JIK0uUbrv53cs3b1+\\u002fgZa6VtQGjAmoxcjMiCFfMiTDAAGnF5JgAP1928XoslMMOEFndspVg7RsGkBDuqMlMy0wkYcaFiQm0mP9aRRJI9Ed4uGvJccaAEHFWE0BSI+kEUG7owamwnVomkJyCbhnR1KIYDdkZrAnSpRQyAApoYiMgEkJo0UIxCgPZAmVEiSnUqKWSYqIWlVKrKbVNMW4v78WmTLd3PdLf\\u002fHi3a\\u002f9y9\\u002f8hz\\u002f\\u002fCx9\\u002f8qVi2u3nbhSb2ZBIjltqDvGXmVaCVFsWcrhbHgt+4uAmAJScYWeOIbUJHvjU2T0Wq3pGEWBkd0\\u002fW4UZkR+8IQz4swBLymG6xgQTHTsyxSTTGXeoJh2RDNIA0WoM5sg0cMgUmoUAC89KlfV1tE50iQ+v1OjuLaqgeRGWoUsPnglKDcESJZpClFCEjFKUEqVApikNTFrXEVGqd6jRFKaUEIsQIkgbm3q+ubr54\\u002fuY3f+u3\\u002f8H\\u002f+X9\\u002f9zsfZXdvzTDRC+kYCVYK6DHOJKLtet8tCJSgxC4AXYUAmMlRlAn0BKgRO7YBDS7ISHTbQxclTSKdq1X09+pGKnq\\u002fj0bINNJpkoM9gPErwFqLAdPZMzRiHTAyDXGcjAgnFEYig4MlnRg3H819qaup9b6qFc5aNwSHl4MqgYOwYJis71XQqMilVMBiZTBYalEtURSrWmpomupqXcbXWUSIJCRF6XLLvLy4vry6\\u002fvz583\\u002f59d\\u002f4v\\u002f7xr3z++ZcLlqUvznGrVC\\u002fZUyVAJskxwBGRDgUy0G17ySRtyE7SCJGwLYGyZSCLBJoDAoKgMnoiewPYOzp8fHq0LLuyiXTCoJ0Jj1waHvVhb8FYHLdhQcSyNIkqCDmzSwRpIQ3AsAlmjmNQZOtpoi+oBUGAuV2tc78cHW0y+3pV4YwyirDECFCVwUJBVI1SpCgQqWDEIPoIRZFKiVqiRqkRq6mWUupYM4lCghJCu3l\\u002fdbNcvLu+vp6\\u002f+c1v\\u002fPI\\u002f\\u002f9Vv\\u002fu7vvXt3sczLvN\\u002f3TMAj00sauXSPP8XhCWooCcFEQmZ3t7sCZPY25CYykibYiZyl7B1UiQIAIjFEYumZkFS4u27b47LMqLVkTzJtkQBiqPoDq8NwiOpIwH1o3G6aBEnn2HlIMz0yJoUOwGgw7CHhR044gcRud7P+YNWXPLm\\u002fZaJOVSqhIkpBKYoEqoQUUSIKGYEopUjjltAoUd4TfXmPRy0kqUBIJrtz2e8ub3bXF\\u002fPbq93rt2++\\u002fhu\\u002f9fXf+PqnH3+yLK33pc8LM4XEgcFRRCNCCwwKNIzxL4huUBgsQAm06UxmhgCJiXQmQLJ3G4n00gyDAYyCDBqFiWx9VVZcOoE+9lCQmZzKJAfLhILeElT2lDrsoEceQEkSvVMik0Br4xIOu0h7N0cygAB6x0ogQSAbNOVUY9nvNqvqXI4398BSVCKqB9OXqKWIqiox1ORUVgoV1VAJhkpUlggKpQzYJIqCgt1ozsvLq8vL66ur\\u002fc2yvHzx7pu\\u002f+7u\\u002f9uu\\u002f\\u002fvnnXyz7+WZ34+zLsiy9Ax7kOr44sNhA5nBy94g\\u002fEXbyvQeR2SnBLhEAoBi0a2CooxwPWqZHVBPqrREIMW0rYd5ctf2uq4BjAARvVlscndbVerXertarUIFs5O7qsud1a\\u002fveZ7uDtjuonr0loPd5agwxFIfsAWkA1BhGgUatSLi3pdaigpPTE1Gb6ShUpalELRwlVQFFVWFMERExRhO1FAVFMaAhggRJomzvM3cXu8vr\\u002fdXNzfVuv9vtXzx\\u002f8dv\\u002f+hvf+Mbvvnz5+urqap7nviw2wOwe1APbJKTQuPWZxmj5RwhJTBsGh8GhYlsKwzY4rtIwDEARzkTrBgSGZNv9cHcDMDpSGTYyu1oHAUIELna4utpvtjo63YB1vVqXiNVqunf6gbT0+Wa\\u002fXO1vruf95dJ2PTure1vIgb5hdjfR\\u002fXCbgQ0QHOFDmoA6hYgokrarzXqaNuvjGqsSk7iKKCUixDiIGkXE8LjKyA7FAEAQ2YHWlv3S9rv58ur6Zl52N+3qZn99ef3p519883e\\u002f9dFHH715\\u002fWre7duy770l0PuSYx4GtNZISoLdkUYUMLp7MXq6hExkgtDIX4\\u002f\\u002fgAg5k7YibAAYlXa8glICOkALggwCzqEph8MBu+CwdxRBEgbgjst319fX7cXzN\\u002ffOz+\\u002ffv98zVohaVmXanm4f6L7lnn2\\u002f2123eb9brvsyL\\u002fM+0exGOr0AtPv4djanzU707jZVKGI1rbbr7VTL0Xaz3a62qzVjCtZgLWXSWMgUg4oggCgjzCnSYLOX3W43t5v9fje3+WZ\\u002fs1vmtsy7\\u002fbvLixfPX37340++\\u002f73vvXz5cpmXzD7Pc2udMGA704YJwZklgsBIf6STrbQ2Q6RGxUK+FxY0KZGjUwZskZbgNBNp4PB9Ub0TeL\\u002fJwCDRe4dBwhKI3hPw+2cZlGhnhihqySxSZqb9+sWrN6\\u002feaNLZ+f3T09Oj7Wa1mupU1qttLZvTe2dg53thgMz0crO7ntuuL\\u002fve2zzPHFfrlr13L+7zyenxdr26d3ry5P6zTd1upmNShVFLKVQUMSigFKXVgOzuyzLv511ry7xfWl9a3++WfettaUvr+\\u002f3+8uLyiy+ff+9733v54uXuarfs9723XZt7X5yZbrC7hKHCwUEygzns\\u002fIHakMSnTz8Aid6Mw401YgDIbAZ8yBeAsH2ouALh9CjRPnCBSRA2AI7jjztoDHus2NCis3eDMMxR8oeC9yB2RcJSJBmhiNhs1tvt0fHx0Xq7ntarWmpMKkVFUYsUrAEeVtaSYgkCtNNOISWsptX98\\u002fOTk+PjzdF2e1RiNdUVWAjB0UFn9uT4NoN05ritovfF7r3P+2VpbXe9v7y8fPXq1ctXr16\\u002ffHV5eT3PN8vc7Ja9jSAfvZWN5obhsnF5EoyEYS+JUT5JCJLAZ8+eOXvrDaBGvI+mCQQPzszMwewgiMwEMYyAkxAGyfh9O0pJBNK2c6AHwHz\\u002fGsmHAn9g6nGsw0HJw+0CZRovhxhSnabNel3Xq81ms1mv19vNVMcS75h\\u002fRUhjuBwyyTGEKSWmVa3xfuFckwiyAATopJGEeva+9N5bW9p+WXY3u6ub65vr64uLq+vLy8vLy3m\\u002fX5bF2Zdldiactvt7kpXYckhCmHAafO9rIDPJAjidxKFeSYTBZ8+eGpiXWRyBi5BoL05iFFvDGNJbTEk27CQFyplDgB\\u002feDJCjSUD5wZ5NADTS4DicyFE\\u002f08b4EgxCGouzOMACuwOEAEpDfVUCFDWmEERElGlaTVNdrdarqUSNWkqtpZSp1hJFYhlfHkiNbnWcYe+Hr0xCovdlvpmXeb\\u002fb3cz7m5vdrveePU0c0qIP0mi9N\\u002fdxK5DHeY7SmkA6cwQ94LQO2W+SIpBIWxxr6840CScg8OnTDzhuWLiz27AyFlH+zYfv7N+WHRrdO7stuwPglu0OgFu2OwBu2e4AuGW7A+CW7Q6AW7Y7AG7Z7gC4ZbsD4JbtDoBbtjsAbtnuALhluwPglu0OgFu2OwBu2e4AuGW7A+CW7Q6AW7Y7AG7Z7gC4ZbsD4JbtDoBbtjsAbtnuALhluwPglu0OgFu2OwBu2e4AuGW7A+CW7Q6AW7Y7AG7Z\\u002fl\\u002fdvQkCNHIG1wAAAABJRU5ErkJggg==\",\"type\":\"image\",\"xaxis\":\"x\",\"yaxis\":\"y\",\"hovertemplate\":\"x: %{x}\\u003cbr\\u003ey: %{y}\\u003cextra\\u003e\\u003c\\u002fextra\\u003e\"}],                        {\"template\":{\"data\":{\"histogram2dcontour\":[{\"type\":\"histogram2dcontour\",\"colorbar\":{\"outlinewidth\":0,\"ticks\":\"\"},\"colorscale\":[[0.0,\"#0d0887\"],[0.1111111111111111,\"#46039f\"],[0.2222222222222222,\"#7201a8\"],[0.3333333333333333,\"#9c179e\"],[0.4444444444444444,\"#bd3786\"],[0.5555555555555556,\"#d8576b\"],[0.6666666666666666,\"#ed7953\"],[0.7777777777777778,\"#fb9f3a\"],[0.8888888888888888,\"#fdca26\"],[1.0,\"#f0f921\"]]}],\"choropleth\":[{\"type\":\"choropleth\",\"colorbar\":{\"outlinewidth\":0,\"ticks\":\"\"}}],\"histogram2d\":[{\"type\":\"histogram2d\",\"colorbar\":{\"outlinewidth\":0,\"ticks\":\"\"},\"colorscale\":[[0.0,\"#0d0887\"],[0.1111111111111111,\"#46039f\"],[0.2222222222222222,\"#7201a8\"],[0.3333333333333333,\"#9c179e\"],[0.4444444444444444,\"#bd3786\"],[0.5555555555555556,\"#d8576b\"],[0.6666666666666666,\"#ed7953\"],[0.7777777777777778,\"#fb9f3a\"],[0.8888888888888888,\"#fdca26\"],[1.0,\"#f0f921\"]]}],\"heatmap\":[{\"type\":\"heatmap\",\"colorbar\":{\"outlinewidth\":0,\"ticks\":\"\"},\"colorscale\":[[0.0,\"#0d0887\"],[0.1111111111111111,\"#46039f\"],[0.2222222222222222,\"#7201a8\"],[0.3333333333333333,\"#9c179e\"],[0.4444444444444444,\"#bd3786\"],[0.5555555555555556,\"#d8576b\"],[0.6666666666666666,\"#ed7953\"],[0.7777777777777778,\"#fb9f3a\"],[0.8888888888888888,\"#fdca26\"],[1.0,\"#f0f921\"]]}],\"heatmapgl\":[{\"type\":\"heatmapgl\",\"colorbar\":{\"outlinewidth\":0,\"ticks\":\"\"},\"colorscale\":[[0.0,\"#0d0887\"],[0.1111111111111111,\"#46039f\"],[0.2222222222222222,\"#7201a8\"],[0.3333333333333333,\"#9c179e\"],[0.4444444444444444,\"#bd3786\"],[0.5555555555555556,\"#d8576b\"],[0.6666666666666666,\"#ed7953\"],[0.7777777777777778,\"#fb9f3a\"],[0.8888888888888888,\"#fdca26\"],[1.0,\"#f0f921\"]]}],\"contourcarpet\":[{\"type\":\"contourcarpet\",\"colorbar\":{\"outlinewidth\":0,\"ticks\":\"\"}}],\"contour\":[{\"type\":\"contour\",\"colorbar\":{\"outlinewidth\":0,\"ticks\":\"\"},\"colorscale\":[[0.0,\"#0d0887\"],[0.1111111111111111,\"#46039f\"],[0.2222222222222222,\"#7201a8\"],[0.3333333333333333,\"#9c179e\"],[0.4444444444444444,\"#bd3786\"],[0.5555555555555556,\"#d8576b\"],[0.6666666666666666,\"#ed7953\"],[0.7777777777777778,\"#fb9f3a\"],[0.8888888888888888,\"#fdca26\"],[1.0,\"#f0f921\"]]}],\"surface\":[{\"type\":\"surface\",\"colorbar\":{\"outlinewidth\":0,\"ticks\":\"\"},\"colorscale\":[[0.0,\"#0d0887\"],[0.1111111111111111,\"#46039f\"],[0.2222222222222222,\"#7201a8\"],[0.3333333333333333,\"#9c179e\"],[0.4444444444444444,\"#bd3786\"],[0.5555555555555556,\"#d8576b\"],[0.6666666666666666,\"#ed7953\"],[0.7777777777777778,\"#fb9f3a\"],[0.8888888888888888,\"#fdca26\"],[1.0,\"#f0f921\"]]}],\"mesh3d\":[{\"type\":\"mesh3d\",\"colorbar\":{\"outlinewidth\":0,\"ticks\":\"\"}}],\"scatter\":[{\"fillpattern\":{\"fillmode\":\"overlay\",\"size\":10,\"solidity\":0.2},\"type\":\"scatter\"}],\"parcoords\":[{\"type\":\"parcoords\",\"line\":{\"colorbar\":{\"outlinewidth\":0,\"ticks\":\"\"}}}],\"scatterpolargl\":[{\"type\":\"scatterpolargl\",\"marker\":{\"colorbar\":{\"outlinewidth\":0,\"ticks\":\"\"}}}],\"bar\":[{\"error_x\":{\"color\":\"#2a3f5f\"},\"error_y\":{\"color\":\"#2a3f5f\"},\"marker\":{\"line\":{\"color\":\"#E5ECF6\",\"width\":0.5},\"pattern\":{\"fillmode\":\"overlay\",\"size\":10,\"solidity\":0.2}},\"type\":\"bar\"}],\"scattergeo\":[{\"type\":\"scattergeo\",\"marker\":{\"colorbar\":{\"outlinewidth\":0,\"ticks\":\"\"}}}],\"scatterpolar\":[{\"type\":\"scatterpolar\",\"marker\":{\"colorbar\":{\"outlinewidth\":0,\"ticks\":\"\"}}}],\"histogram\":[{\"marker\":{\"pattern\":{\"fillmode\":\"overlay\",\"size\":10,\"solidity\":0.2}},\"type\":\"histogram\"}],\"scattergl\":[{\"type\":\"scattergl\",\"marker\":{\"colorbar\":{\"outlinewidth\":0,\"ticks\":\"\"}}}],\"scatter3d\":[{\"type\":\"scatter3d\",\"line\":{\"colorbar\":{\"outlinewidth\":0,\"ticks\":\"\"}},\"marker\":{\"colorbar\":{\"outlinewidth\":0,\"ticks\":\"\"}}}],\"scattermapbox\":[{\"type\":\"scattermapbox\",\"marker\":{\"colorbar\":{\"outlinewidth\":0,\"ticks\":\"\"}}}],\"scatterternary\":[{\"type\":\"scatterternary\",\"marker\":{\"colorbar\":{\"outlinewidth\":0,\"ticks\":\"\"}}}],\"scattercarpet\":[{\"type\":\"scattercarpet\",\"marker\":{\"colorbar\":{\"outlinewidth\":0,\"ticks\":\"\"}}}],\"carpet\":[{\"aaxis\":{\"endlinecolor\":\"#2a3f5f\",\"gridcolor\":\"white\",\"linecolor\":\"white\",\"minorgridcolor\":\"white\",\"startlinecolor\":\"#2a3f5f\"},\"baxis\":{\"endlinecolor\":\"#2a3f5f\",\"gridcolor\":\"white\",\"linecolor\":\"white\",\"minorgridcolor\":\"white\",\"startlinecolor\":\"#2a3f5f\"},\"type\":\"carpet\"}],\"table\":[{\"cells\":{\"fill\":{\"color\":\"#EBF0F8\"},\"line\":{\"color\":\"white\"}},\"header\":{\"fill\":{\"color\":\"#C8D4E3\"},\"line\":{\"color\":\"white\"}},\"type\":\"table\"}],\"barpolar\":[{\"marker\":{\"line\":{\"color\":\"#E5ECF6\",\"width\":0.5},\"pattern\":{\"fillmode\":\"overlay\",\"size\":10,\"solidity\":0.2}},\"type\":\"barpolar\"}],\"pie\":[{\"automargin\":true,\"type\":\"pie\"}]},\"layout\":{\"autotypenumbers\":\"strict\",\"colorway\":[\"#636efa\",\"#EF553B\",\"#00cc96\",\"#ab63fa\",\"#FFA15A\",\"#19d3f3\",\"#FF6692\",\"#B6E880\",\"#FF97FF\",\"#FECB52\"],\"font\":{\"color\":\"#2a3f5f\"},\"hovermode\":\"closest\",\"hoverlabel\":{\"align\":\"left\"},\"paper_bgcolor\":\"white\",\"plot_bgcolor\":\"#E5ECF6\",\"polar\":{\"bgcolor\":\"#E5ECF6\",\"angularaxis\":{\"gridcolor\":\"white\",\"linecolor\":\"white\",\"ticks\":\"\"},\"radialaxis\":{\"gridcolor\":\"white\",\"linecolor\":\"white\",\"ticks\":\"\"}},\"ternary\":{\"bgcolor\":\"#E5ECF6\",\"aaxis\":{\"gridcolor\":\"white\",\"linecolor\":\"white\",\"ticks\":\"\"},\"baxis\":{\"gridcolor\":\"white\",\"linecolor\":\"white\",\"ticks\":\"\"},\"caxis\":{\"gridcolor\":\"white\",\"linecolor\":\"white\",\"ticks\":\"\"}},\"coloraxis\":{\"colorbar\":{\"outlinewidth\":0,\"ticks\":\"\"}},\"colorscale\":{\"sequential\":[[0.0,\"#0d0887\"],[0.1111111111111111,\"#46039f\"],[0.2222222222222222,\"#7201a8\"],[0.3333333333333333,\"#9c179e\"],[0.4444444444444444,\"#bd3786\"],[0.5555555555555556,\"#d8576b\"],[0.6666666666666666,\"#ed7953\"],[0.7777777777777778,\"#fb9f3a\"],[0.8888888888888888,\"#fdca26\"],[1.0,\"#f0f921\"]],\"sequentialminus\":[[0.0,\"#0d0887\"],[0.1111111111111111,\"#46039f\"],[0.2222222222222222,\"#7201a8\"],[0.3333333333333333,\"#9c179e\"],[0.4444444444444444,\"#bd3786\"],[0.5555555555555556,\"#d8576b\"],[0.6666666666666666,\"#ed7953\"],[0.7777777777777778,\"#fb9f3a\"],[0.8888888888888888,\"#fdca26\"],[1.0,\"#f0f921\"]],\"diverging\":[[0,\"#8e0152\"],[0.1,\"#c51b7d\"],[0.2,\"#de77ae\"],[0.3,\"#f1b6da\"],[0.4,\"#fde0ef\"],[0.5,\"#f7f7f7\"],[0.6,\"#e6f5d0\"],[0.7,\"#b8e186\"],[0.8,\"#7fbc41\"],[0.9,\"#4d9221\"],[1,\"#276419\"]]},\"xaxis\":{\"gridcolor\":\"white\",\"linecolor\":\"white\",\"ticks\":\"\",\"title\":{\"standoff\":15},\"zerolinecolor\":\"white\",\"automargin\":true,\"zerolinewidth\":2},\"yaxis\":{\"gridcolor\":\"white\",\"linecolor\":\"white\",\"ticks\":\"\",\"title\":{\"standoff\":15},\"zerolinecolor\":\"white\",\"automargin\":true,\"zerolinewidth\":2},\"scene\":{\"xaxis\":{\"backgroundcolor\":\"#E5ECF6\",\"gridcolor\":\"white\",\"linecolor\":\"white\",\"showbackground\":true,\"ticks\":\"\",\"zerolinecolor\":\"white\",\"gridwidth\":2},\"yaxis\":{\"backgroundcolor\":\"#E5ECF6\",\"gridcolor\":\"white\",\"linecolor\":\"white\",\"showbackground\":true,\"ticks\":\"\",\"zerolinecolor\":\"white\",\"gridwidth\":2},\"zaxis\":{\"backgroundcolor\":\"#E5ECF6\",\"gridcolor\":\"white\",\"linecolor\":\"white\",\"showbackground\":true,\"ticks\":\"\",\"zerolinecolor\":\"white\",\"gridwidth\":2}},\"shapedefaults\":{\"line\":{\"color\":\"#2a3f5f\"}},\"annotationdefaults\":{\"arrowcolor\":\"#2a3f5f\",\"arrowhead\":0,\"arrowwidth\":1},\"geo\":{\"bgcolor\":\"white\",\"landcolor\":\"#E5ECF6\",\"subunitcolor\":\"white\",\"showland\":true,\"showlakes\":true,\"lakecolor\":\"white\"},\"title\":{\"x\":0.05},\"mapbox\":{\"style\":\"light\"}}},\"xaxis\":{\"anchor\":\"y\",\"domain\":[0.0,1.0]},\"yaxis\":{\"anchor\":\"x\",\"domain\":[0.0,1.0]},\"margin\":{\"t\":60}},                        {\"responsive\": true}                    ).then(function(){\n",
       "                            \n",
       "var gd = document.getElementById('beb4898a-7be6-466b-992c-36cd766e653e');\n",
       "var x = new MutationObserver(function (mutations, observer) {{\n",
       "        var display = window.getComputedStyle(gd).display;\n",
       "        if (!display || display === 'none') {{\n",
       "            console.log([gd, 'removed!']);\n",
       "            Plotly.purge(gd);\n",
       "            observer.disconnect();\n",
       "        }}\n",
       "}});\n",
       "\n",
       "// Listen for the removal of the full notebook cells\n",
       "var notebookContainer = gd.closest('#notebook-container');\n",
       "if (notebookContainer) {{\n",
       "    x.observe(notebookContainer, {childList: true});\n",
       "}}\n",
       "\n",
       "// Listen for the clearing of the current output cell\n",
       "var outputEl = gd.closest('.output');\n",
       "if (outputEl) {{\n",
       "    x.observe(outputEl, {childList: true});\n",
       "}}\n",
       "\n",
       "                        })                };                });            </script>        </div>"
      ]
     },
     "metadata": {},
     "output_type": "display_data"
    }
   ],
   "source": [
    "import plotly.express as px\n",
    "from skimage import io\n",
    "\n",
    "fig = px.imshow(X_train[0])\n",
    "fig.show()"
   ]
  },
  {
   "cell_type": "code",
   "execution_count": 6,
   "id": "4919dd9f",
   "metadata": {
    "execution": {
     "iopub.execute_input": "2023-12-13T06:29:20.884195Z",
     "iopub.status.busy": "2023-12-13T06:29:20.882538Z",
     "iopub.status.idle": "2023-12-13T06:29:20.897815Z",
     "shell.execute_reply": "2023-12-13T06:29:20.896314Z"
    },
    "papermill": {
     "duration": 0.043017,
     "end_time": "2023-12-13T06:29:20.901226",
     "exception": false,
     "start_time": "2023-12-13T06:29:20.858209",
     "status": "completed"
    },
    "tags": []
   },
   "outputs": [],
   "source": [
    "from sklearn.preprocessing import LabelBinarizer\n",
    "encoder = LabelBinarizer()\n",
    "y_train_categorical=encoder.fit_transform(y_train.values.reshape(-1, 1))\n",
    "y_test_categorical=encoder.transform(y_test.values.reshape(-1, 1))"
   ]
  },
  {
   "cell_type": "markdown",
   "id": "6cb77f78",
   "metadata": {
    "papermill": {
     "duration": 0.019626,
     "end_time": "2023-12-13T06:29:20.941584",
     "exception": false,
     "start_time": "2023-12-13T06:29:20.921958",
     "status": "completed"
    },
    "tags": []
   },
   "source": [
    "### Dense neural network"
   ]
  },
  {
   "cell_type": "code",
   "execution_count": 7,
   "id": "826a41ab",
   "metadata": {
    "execution": {
     "iopub.execute_input": "2023-12-13T06:29:20.989432Z",
     "iopub.status.busy": "2023-12-13T06:29:20.988872Z",
     "iopub.status.idle": "2023-12-13T06:29:21.469550Z",
     "shell.execute_reply": "2023-12-13T06:29:21.468056Z"
    },
    "papermill": {
     "duration": 0.509219,
     "end_time": "2023-12-13T06:29:21.473748",
     "exception": false,
     "start_time": "2023-12-13T06:29:20.964529",
     "status": "completed"
    },
    "tags": []
   },
   "outputs": [],
   "source": [
    "from keras.models import Sequential\n",
    "from keras.layers import Activation, Dropout, Flatten, Dense,BatchNormalization\n",
    "\n",
    "dense_model = Sequential()\n",
    "dense_model.add(Flatten(input_shape = [128,128,3]))\n",
    "dense_model.add(Dense(300,activation = 'relu'))\n",
    "dense_model.add(Dense(100,activation = 'relu'))\n",
    "dense_model.add(Dense(100,activation = 'relu'))\n",
    "dense_model.add(Dense(100,activation = 'relu'))\n",
    "dense_model.add(Dense(20,activation = 'softmax'))"
   ]
  },
  {
   "cell_type": "code",
   "execution_count": 8,
   "id": "911e8465",
   "metadata": {
    "execution": {
     "iopub.execute_input": "2023-12-13T06:29:21.516903Z",
     "iopub.status.busy": "2023-12-13T06:29:21.516396Z",
     "iopub.status.idle": "2023-12-13T06:29:21.553818Z",
     "shell.execute_reply": "2023-12-13T06:29:21.552369Z"
    },
    "papermill": {
     "duration": 0.062333,
     "end_time": "2023-12-13T06:29:21.556856",
     "exception": false,
     "start_time": "2023-12-13T06:29:21.494523",
     "status": "completed"
    },
    "tags": []
   },
   "outputs": [
    {
     "name": "stdout",
     "output_type": "stream",
     "text": [
      "Model: \"sequential\"\n",
      "_________________________________________________________________\n",
      " Layer (type)                Output Shape              Param #   \n",
      "=================================================================\n",
      " flatten (Flatten)           (None, 49152)             0         \n",
      "                                                                 \n",
      " dense (Dense)               (None, 300)               14745900  \n",
      "                                                                 \n",
      " dense_1 (Dense)             (None, 100)               30100     \n",
      "                                                                 \n",
      " dense_2 (Dense)             (None, 100)               10100     \n",
      "                                                                 \n",
      " dense_3 (Dense)             (None, 100)               10100     \n",
      "                                                                 \n",
      " dense_4 (Dense)             (None, 20)                2020      \n",
      "                                                                 \n",
      "=================================================================\n",
      "Total params: 14798220 (56.45 MB)\n",
      "Trainable params: 14798220 (56.45 MB)\n",
      "Non-trainable params: 0 (0.00 Byte)\n",
      "_________________________________________________________________\n"
     ]
    }
   ],
   "source": [
    "dense_model.summary()"
   ]
  },
  {
   "cell_type": "code",
   "execution_count": 9,
   "id": "087a8f13",
   "metadata": {
    "execution": {
     "iopub.execute_input": "2023-12-13T06:29:21.604070Z",
     "iopub.status.busy": "2023-12-13T06:29:21.603540Z",
     "iopub.status.idle": "2023-12-13T06:30:04.688061Z",
     "shell.execute_reply": "2023-12-13T06:30:04.686637Z"
    },
    "papermill": {
     "duration": 43.112516,
     "end_time": "2023-12-13T06:30:04.691131",
     "exception": false,
     "start_time": "2023-12-13T06:29:21.578615",
     "status": "completed"
    },
    "tags": []
   },
   "outputs": [
    {
     "name": "stdout",
     "output_type": "stream",
     "text": [
      "Epoch 1/10\n",
      "32/32 [==============================] - 4s 87ms/step - loss: 2.5945 - accuracy: 0.2520\n",
      "Epoch 2/10\n",
      "32/32 [==============================] - 3s 86ms/step - loss: 1.4003 - accuracy: 0.7034\n",
      "Epoch 3/10\n",
      "32/32 [==============================] - 3s 78ms/step - loss: 0.7049 - accuracy: 0.8423\n",
      "Epoch 4/10\n",
      "32/32 [==============================] - 2s 78ms/step - loss: 0.3258 - accuracy: 0.9355\n",
      "Epoch 5/10\n",
      "32/32 [==============================] - 2s 78ms/step - loss: 0.1358 - accuracy: 0.9921\n",
      "Epoch 6/10\n",
      "32/32 [==============================] - 2s 77ms/step - loss: 0.0850 - accuracy: 0.9940\n",
      "Epoch 7/10\n",
      "32/32 [==============================] - 2s 78ms/step - loss: 0.0600 - accuracy: 0.9990\n",
      "Epoch 8/10\n",
      "32/32 [==============================] - 3s 79ms/step - loss: 0.0443 - accuracy: 1.0000\n",
      "Epoch 9/10\n",
      "32/32 [==============================] - 3s 79ms/step - loss: 0.0349 - accuracy: 1.0000\n",
      "Epoch 10/10\n",
      "32/32 [==============================] - 2s 77ms/step - loss: 0.0286 - accuracy: 1.0000\n"
     ]
    }
   ],
   "source": [
    "dense_model.compile(loss = 'categorical_crossentropy',\n",
    "optimizer = 'sgd',\n",
    "metrics = ['accuracy'])\n",
    "dense_history = dense_model.fit(np.array(X_train),\n",
    "                    y_train_categorical,\n",
    "                    epochs = 10)"
   ]
  },
  {
   "cell_type": "code",
   "execution_count": 10,
   "id": "106cd15a",
   "metadata": {
    "execution": {
     "iopub.execute_input": "2023-12-13T06:30:04.804658Z",
     "iopub.status.busy": "2023-12-13T06:30:04.804079Z",
     "iopub.status.idle": "2023-12-13T06:30:05.217652Z",
     "shell.execute_reply": "2023-12-13T06:30:05.216397Z"
    },
    "papermill": {
     "duration": 0.470838,
     "end_time": "2023-12-13T06:30:05.220153",
     "exception": false,
     "start_time": "2023-12-13T06:30:04.749315",
     "status": "completed"
    },
    "tags": []
   },
   "outputs": [
    {
     "data": {
      "image/png": "[encoded data removed]",
      "text/plain": [
       "<Figure size 1600x1000 with 1 Axes>"
      ]
     },
     "metadata": {},
     "output_type": "display_data"
    }
   ],
   "source": [
    "import matplotlib.pyplot as plt\n",
    "pd.DataFrame(dense_history.history).plot(figsize = (16, 10))\n",
    "plt.grid(True)\n",
    "plt.show()"
   ]
  },
  {
   "cell_type": "code",
   "execution_count": 11,
   "id": "36b08423",
   "metadata": {
    "execution": {
     "iopub.execute_input": "2023-12-13T06:30:05.441055Z",
     "iopub.status.busy": "2023-12-13T06:30:05.440562Z",
     "iopub.status.idle": "2023-12-13T06:30:06.588726Z",
     "shell.execute_reply": "2023-12-13T06:30:06.587536Z"
    },
    "papermill": {
     "duration": 1.318347,
     "end_time": "2023-12-13T06:30:06.593057",
     "exception": false,
     "start_time": "2023-12-13T06:30:05.274710",
     "status": "completed"
    },
    "tags": []
   },
   "outputs": [
    {
     "name": "stdout",
     "output_type": "stream",
     "text": [
      "14/14 [==============================] - 1s 25ms/step - loss: 0.0314 - accuracy: 1.0000\n"
     ]
    }
   ],
   "source": [
    "res = dense_model.evaluate(np.array(X_test),y_test_categorical)\n"
   ]
  },
  {
   "cell_type": "code",
   "execution_count": 12,
   "id": "435fa128",
   "metadata": {
    "execution": {
     "iopub.execute_input": "2023-12-13T06:30:06.717576Z",
     "iopub.status.busy": "2023-12-13T06:30:06.714728Z",
     "iopub.status.idle": "2023-12-13T06:30:06.725655Z",
     "shell.execute_reply": "2023-12-13T06:30:06.724247Z"
    },
    "papermill": {
     "duration": 0.073846,
     "end_time": "2023-12-13T06:30:06.728611",
     "exception": false,
     "start_time": "2023-12-13T06:30:06.654765",
     "status": "completed"
    },
    "tags": []
   },
   "outputs": [
    {
     "data": {
      "text/plain": [
       "array([[0, 0, 0, 0, 0, 0, 0, 0, 0, 0, 0, 1, 0, 0, 0, 0, 0, 0, 0, 0],\n",
       "       [0, 0, 0, 0, 0, 0, 0, 0, 0, 0, 0, 0, 0, 0, 0, 1, 0, 0, 0, 0],\n",
       "       [0, 0, 0, 0, 0, 1, 0, 0, 0, 0, 0, 0, 0, 0, 0, 0, 0, 0, 0, 0],\n",
       "       [0, 0, 0, 0, 1, 0, 0, 0, 0, 0, 0, 0, 0, 0, 0, 0, 0, 0, 0, 0],\n",
       "       [0, 0, 0, 0, 0, 1, 0, 0, 0, 0, 0, 0, 0, 0, 0, 0, 0, 0, 0, 0]])"
      ]
     },
     "execution_count": 12,
     "metadata": {},
     "output_type": "execute_result"
    }
   ],
   "source": [
    "y_test_categorical[0:5]"
   ]
  },
  {
   "cell_type": "code",
   "execution_count": 13,
   "id": "41d971cc",
   "metadata": {
    "execution": {
     "iopub.execute_input": "2023-12-13T06:30:06.849275Z",
     "iopub.status.busy": "2023-12-13T06:30:06.848267Z",
     "iopub.status.idle": "2023-12-13T06:30:07.669809Z",
     "shell.execute_reply": "2023-12-13T06:30:07.668763Z"
    },
    "papermill": {
     "duration": 0.88486,
     "end_time": "2023-12-13T06:30:07.672419",
     "exception": false,
     "start_time": "2023-12-13T06:30:06.787559",
     "status": "completed"
    },
    "tags": []
   },
   "outputs": [
    {
     "name": "stdout",
     "output_type": "stream",
     "text": [
      "14/14 [==============================] - 0s 23ms/step\n"
     ]
    },
    {
     "data": {
      "text/plain": [
       "array([[5.16662002e-03, 2.74954118e-06, 2.63881462e-04, 8.71845441e-06,\n",
       "        4.65924648e-04, 1.13584196e-04, 4.33870991e-05, 6.21747575e-04,\n",
       "        3.14044952e-02, 1.72149862e-06, 2.79540126e-03, 9.56342697e-01,\n",
       "        2.61368609e-06, 3.51395975e-05, 1.28746860e-05, 5.36449843e-05,\n",
       "        1.10531365e-03, 2.23353200e-05, 1.51918840e-03, 1.80456354e-05],\n",
       "       [3.23547632e-04, 7.71973561e-08, 6.62320372e-06, 1.45723538e-06,\n",
       "        1.64719506e-06, 2.72313230e-07, 2.89866966e-06, 3.67557664e-06,\n",
       "        1.44271953e-05, 6.69330484e-06, 2.23629922e-05, 2.92877558e-05,\n",
       "        1.09691382e-06, 4.55297732e-06, 8.12767485e-06, 9.95769978e-01,\n",
       "        3.65523971e-03, 1.14238601e-05, 6.23040887e-06, 1.30418979e-04],\n",
       "       [2.44775496e-04, 5.18488057e-04, 3.96307911e-07, 1.75427085e-05,\n",
       "        2.91751232e-04, 9.92879808e-01, 1.77376678e-05, 6.24148000e-04,\n",
       "        5.24626812e-04, 4.48759383e-05, 1.34405809e-06, 6.10414572e-05,\n",
       "        1.16649744e-05, 1.10647496e-04, 3.74628257e-07, 1.70048473e-08,\n",
       "        1.15468811e-06, 6.61878403e-06, 4.64201160e-03, 9.43969894e-07],\n",
       "       [1.01293344e-03, 2.31337727e-09, 2.81733537e-06, 2.89699087e-09,\n",
       "        9.95622993e-01, 1.58840448e-05, 6.39129667e-07, 2.21520837e-04,\n",
       "        2.13989788e-05, 1.55940683e-08, 2.11531832e-03, 2.06210330e-04,\n",
       "        5.11703924e-08, 2.37681525e-05, 3.47823459e-08, 3.17344615e-07,\n",
       "        5.87470749e-05, 2.86899808e-06, 6.88801578e-04, 5.63025287e-06],\n",
       "       [2.38154855e-04, 5.18788933e-04, 3.81380005e-07, 1.49230827e-05,\n",
       "        2.55734951e-04, 9.92332399e-01, 1.64141566e-05, 5.50183526e-04,\n",
       "        5.13017992e-04, 3.92408219e-05, 1.24125199e-06, 6.82520986e-05,\n",
       "        9.11926236e-06, 1.08117718e-04, 3.11937185e-07, 1.63216765e-08,\n",
       "        9.57596740e-07, 5.07957566e-06, 5.32701658e-03, 7.99487225e-07]],\n",
       "      dtype=float32)"
      ]
     },
     "execution_count": 13,
     "metadata": {},
     "output_type": "execute_result"
    }
   ],
   "source": [
    "dense_model.predict(np.array(X_test))[0:5]"
   ]
  },
  {
   "cell_type": "markdown",
   "id": "3d0ee07a",
   "metadata": {
    "papermill": {
     "duration": 0.057826,
     "end_time": "2023-12-13T06:30:07.787783",
     "exception": false,
     "start_time": "2023-12-13T06:30:07.729957",
     "status": "completed"
    },
    "tags": []
   },
   "source": [
    " Як ми бачимо наш алгоритм показав чудовий результат. Перенавчання немає так як наша модель показує чудові результати на тренувальних даних."
   ]
  },
  {
   "cell_type": "code",
   "execution_count": null,
   "id": "cf8218e6",
   "metadata": {
    "papermill": {
     "duration": 0.060932,
     "end_time": "2023-12-13T06:30:07.904931",
     "exception": false,
     "start_time": "2023-12-13T06:30:07.843999",
     "status": "completed"
    },
    "tags": []
   },
   "outputs": [],
   "source": []
  },
  {
   "cell_type": "markdown",
   "id": "8345b500",
   "metadata": {
    "papermill": {
     "duration": 0.05891,
     "end_time": "2023-12-13T06:30:08.022591",
     "exception": false,
     "start_time": "2023-12-13T06:30:07.963681",
     "status": "completed"
    },
    "tags": []
   },
   "source": [
    "## CNN"
   ]
  },
  {
   "cell_type": "code",
   "execution_count": 14,
   "id": "fcc1dd90",
   "metadata": {
    "execution": {
     "iopub.execute_input": "2023-12-13T06:30:08.141374Z",
     "iopub.status.busy": "2023-12-13T06:30:08.139850Z",
     "iopub.status.idle": "2023-12-13T06:30:39.372220Z",
     "shell.execute_reply": "2023-12-13T06:30:39.370847Z"
    },
    "papermill": {
     "duration": 31.294664,
     "end_time": "2023-12-13T06:30:39.375861",
     "exception": false,
     "start_time": "2023-12-13T06:30:08.081197",
     "status": "completed"
    },
    "tags": []
   },
   "outputs": [
    {
     "name": "stdout",
     "output_type": "stream",
     "text": [
      "Epoch 1/5\n",
      "32/32 [==============================] - 7s 187ms/step - loss: 1.3346 - accuracy: 0.7510\n",
      "Epoch 2/5\n",
      "32/32 [==============================] - 6s 184ms/step - loss: 0.1166 - accuracy: 0.9792\n",
      "Epoch 3/5\n",
      "32/32 [==============================] - 6s 184ms/step - loss: 0.0438 - accuracy: 0.9901\n",
      "Epoch 4/5\n",
      "32/32 [==============================] - 6s 198ms/step - loss: 0.0088 - accuracy: 1.0000\n",
      "Epoch 5/5\n",
      "32/32 [==============================] - 6s 181ms/step - loss: 0.0015 - accuracy: 1.0000\n"
     ]
    }
   ],
   "source": [
    "from keras.layers import Conv2D, MaxPooling2D\n",
    "cnn_model = Sequential()\n",
    "\n",
    "cnn_model.add(Conv2D(20, (4, 4), input_shape=(128, 128, 3), activation='relu'))\n",
    "cnn_model.add(MaxPooling2D(pool_size=(2, 2)))\n",
    "cnn_model.add(Flatten())\n",
    "#cnn_model.add(Dense(100,activation = 'relu'))\n",
    "cnn_model.add(Dense(20,activation = 'softmax'))\n",
    "\n",
    "cnn_model.compile(loss = 'categorical_crossentropy',\n",
    "metrics = ['accuracy'])\n",
    "cnn_history = cnn_model.fit(np.array(X_train),\n",
    "                    y_train_categorical,\n",
    "                    epochs = 5)"
   ]
  },
  {
   "cell_type": "code",
   "execution_count": 15,
   "id": "c1580185",
   "metadata": {
    "execution": {
     "iopub.execute_input": "2023-12-13T06:30:39.528700Z",
     "iopub.status.busy": "2023-12-13T06:30:39.527255Z",
     "iopub.status.idle": "2023-12-13T06:30:40.654481Z",
     "shell.execute_reply": "2023-12-13T06:30:40.652609Z"
    },
    "papermill": {
     "duration": 1.209036,
     "end_time": "2023-12-13T06:30:40.657862",
     "exception": false,
     "start_time": "2023-12-13T06:30:39.448826",
     "status": "completed"
    },
    "tags": []
   },
   "outputs": [
    {
     "name": "stdout",
     "output_type": "stream",
     "text": [
      "14/14 [==============================] - 1s 48ms/step - loss: 0.0254 - accuracy: 0.9907\n"
     ]
    },
    {
     "data": {
      "text/plain": [
       "[0.02538457326591015, 0.9907407164573669]"
      ]
     },
     "execution_count": 15,
     "metadata": {},
     "output_type": "execute_result"
    }
   ],
   "source": [
    "cnn_model.evaluate(np.array(X_test),y_test_categorical)"
   ]
  },
  {
   "cell_type": "markdown",
   "id": "f7e3c8c8",
   "metadata": {
    "papermill": {
     "duration": 0.078105,
     "end_time": "2023-12-13T06:30:40.814770",
     "exception": false,
     "start_time": "2023-12-13T06:30:40.736665",
     "status": "completed"
    },
    "tags": []
   },
   "source": [
    "Знову все чудово із того, що ми бачимо з accuracy. Наступні моделі напишемо з роздумів виконання завдання лише"
   ]
  },
  {
   "cell_type": "code",
   "execution_count": 16,
   "id": "81dd4384",
   "metadata": {
    "execution": {
     "iopub.execute_input": "2023-12-13T06:30:40.968880Z",
     "iopub.status.busy": "2023-12-13T06:30:40.968354Z",
     "iopub.status.idle": "2023-12-13T06:31:24.680296Z",
     "shell.execute_reply": "2023-12-13T06:31:24.678824Z"
    },
    "papermill": {
     "duration": 43.793571,
     "end_time": "2023-12-13T06:31:24.684186",
     "exception": false,
     "start_time": "2023-12-13T06:30:40.890615",
     "status": "completed"
    },
    "tags": []
   },
   "outputs": [
    {
     "name": "stdout",
     "output_type": "stream",
     "text": [
      "Epoch 1/5\n",
      "32/32 [==============================] - 9s 258ms/step - loss: 2.9203 - accuracy: 0.7887\n",
      "Epoch 2/5\n",
      "32/32 [==============================] - 8s 254ms/step - loss: 0.0971 - accuracy: 0.9821\n",
      "Epoch 3/5\n",
      "32/32 [==============================] - 9s 274ms/step - loss: 0.1560 - accuracy: 0.9940\n",
      "Epoch 4/5\n",
      "32/32 [==============================] - 8s 263ms/step - loss: 0.0106 - accuracy: 0.9970\n",
      "Epoch 5/5\n",
      "32/32 [==============================] - 8s 255ms/step - loss: 0.0081 - accuracy: 0.9980\n"
     ]
    }
   ],
   "source": [
    "cnn_model2 = Sequential()\n",
    "\n",
    "cnn_model2.add(Conv2D(20, (4, 4), input_shape=(128, 128, 3), activation='relu'))\n",
    "cnn_model2.add(MaxPooling2D(pool_size=(2, 2)))\n",
    "cnn_model2.add(BatchNormalization())\n",
    "\n",
    "cnn_model2.add(Flatten())\n",
    "\n",
    "cnn_model2.add(Dense(100,activation = 'relu'))\n",
    "cnn_model2.add(Dense(20,activation = 'softmax'))\n",
    "\n",
    "cnn_model2.compile(loss = 'categorical_crossentropy',\n",
    "optimizer = 'adam',\n",
    "metrics = ['accuracy'])\n",
    "cnn_history2 = cnn_model2.fit(np.array(X_train),\n",
    "                    y_train_categorical,\n",
    "                    epochs = 5)"
   ]
  },
  {
   "cell_type": "code",
   "execution_count": 17,
   "id": "7b82b794",
   "metadata": {
    "execution": {
     "iopub.execute_input": "2023-12-13T06:31:24.882234Z",
     "iopub.status.busy": "2023-12-13T06:31:24.881745Z",
     "iopub.status.idle": "2023-12-13T06:31:26.611730Z",
     "shell.execute_reply": "2023-12-13T06:31:26.610216Z"
    },
    "papermill": {
     "duration": 1.829373,
     "end_time": "2023-12-13T06:31:26.614656",
     "exception": false,
     "start_time": "2023-12-13T06:31:24.785283",
     "status": "completed"
    },
    "tags": []
   },
   "outputs": [
    {
     "name": "stdout",
     "output_type": "stream",
     "text": [
      "14/14 [==============================] - 1s 63ms/step - loss: 0.3174 - accuracy: 0.9190\n"
     ]
    },
    {
     "data": {
      "text/plain": [
       "[0.31736528873443604, 0.9189814925193787]"
      ]
     },
     "execution_count": 17,
     "metadata": {},
     "output_type": "execute_result"
    }
   ],
   "source": [
    "cnn_model2.evaluate(np.array(X_test),y_test_categorical)"
   ]
  },
  {
   "cell_type": "markdown",
   "id": "a55e1e27",
   "metadata": {
    "papermill": {
     "duration": 0.095281,
     "end_time": "2023-12-13T06:31:26.807736",
     "exception": false,
     "start_time": "2023-12-13T06:31:26.712455",
     "status": "completed"
    },
    "tags": []
   },
   "source": []
  },
  {
   "cell_type": "code",
   "execution_count": 18,
   "id": "56b10962",
   "metadata": {
    "execution": {
     "iopub.execute_input": "2023-12-13T06:31:27.000254Z",
     "iopub.status.busy": "2023-12-13T06:31:26.999417Z",
     "iopub.status.idle": "2023-12-13T06:32:50.883599Z",
     "shell.execute_reply": "2023-12-13T06:32:50.882111Z"
    },
    "papermill": {
     "duration": 83.982025,
     "end_time": "2023-12-13T06:32:50.886886",
     "exception": false,
     "start_time": "2023-12-13T06:31:26.904861",
     "status": "completed"
    },
    "tags": []
   },
   "outputs": [
    {
     "name": "stdout",
     "output_type": "stream",
     "text": [
      "Epoch 1/7\n",
      "32/32 [==============================] - 10s 278ms/step - loss: 0.6738 - accuracy: 0.8125\n",
      "Epoch 2/7\n",
      "32/32 [==============================] - 9s 268ms/step - loss: 0.0593 - accuracy: 0.9851\n",
      "Epoch 3/7\n",
      "32/32 [==============================] - 8s 263ms/step - loss: 0.0032 - accuracy: 1.0000\n",
      "Epoch 4/7\n",
      "32/32 [==============================] - 8s 260ms/step - loss: 7.1619e-04 - accuracy: 1.0000\n",
      "Epoch 5/7\n",
      "32/32 [==============================] - 9s 273ms/step - loss: 3.6833e-04 - accuracy: 1.0000\n",
      "Epoch 6/7\n",
      "32/32 [==============================] - 8s 261ms/step - loss: 2.7001e-04 - accuracy: 1.0000\n",
      "Epoch 7/7\n",
      "32/32 [==============================] - 8s 259ms/step - loss: 1.9158e-04 - accuracy: 1.0000\n"
     ]
    }
   ],
   "source": [
    "cnn_model3 = Sequential()\n",
    "\n",
    "cnn_model3.add(Conv2D(20, (4, 4), input_shape=(128, 128, 3), activation='relu'))\n",
    "cnn_model3.add(MaxPooling2D(pool_size=(2, 2)))\n",
    "cnn_model3.add(BatchNormalization())\n",
    "\n",
    "cnn_model3.add(Conv2D(10, (3, 3), activation='relu'))\n",
    "cnn_model3.add(MaxPooling2D(pool_size=(2, 2)))\n",
    "\n",
    "cnn_model3.add(Flatten())\n",
    "\n",
    "cnn_model3.add(Dense(100,activation = 'relu'))\n",
    "cnn_model3.add(Dense(20,activation = 'softmax'))\n",
    "\n",
    "cnn_model3.compile(loss = 'categorical_crossentropy',\n",
    "optimizer = 'adam',\n",
    "metrics = ['accuracy'])\n",
    "cnn_history3 = cnn_model3.fit(np.array(X_train),\n",
    "                    y_train_categorical,\n",
    "                    epochs = 7)"
   ]
  },
  {
   "cell_type": "code",
   "execution_count": 19,
   "id": "d21912f5",
   "metadata": {
    "execution": {
     "iopub.execute_input": "2023-12-13T06:32:51.124540Z",
     "iopub.status.busy": "2023-12-13T06:32:51.123654Z",
     "iopub.status.idle": "2023-12-13T06:32:52.835577Z",
     "shell.execute_reply": "2023-12-13T06:32:52.834428Z"
    },
    "papermill": {
     "duration": 1.833161,
     "end_time": "2023-12-13T06:32:52.838447",
     "exception": false,
     "start_time": "2023-12-13T06:32:51.005286",
     "status": "completed"
    },
    "tags": []
   },
   "outputs": [
    {
     "name": "stdout",
     "output_type": "stream",
     "text": [
      "14/14 [==============================] - 1s 60ms/step - loss: 0.1698 - accuracy: 0.9861\n"
     ]
    },
    {
     "data": {
      "text/plain": [
       "[0.16983643174171448, 0.9861111044883728]"
      ]
     },
     "execution_count": 19,
     "metadata": {},
     "output_type": "execute_result"
    }
   ],
   "source": [
    "cnn_model3.evaluate(np.array(X_test),y_test_categorical)"
   ]
  },
  {
   "cell_type": "markdown",
   "id": "10dec23a",
   "metadata": {
    "papermill": {
     "duration": 0.117203,
     "end_time": "2023-12-13T06:32:53.075676",
     "exception": false,
     "start_time": "2023-12-13T06:32:52.958473",
     "status": "completed"
    },
    "tags": []
   },
   "source": [
    "Аналізувати те,що сталось тут доволі важко. Оскільки наша модель чудоово впоралось навіть зі звичайною моделлю, то сенсу будувати СNN взагалі не було. А уже після того як ми побудували успішну CNN, то якимось чином модифікувати її не було сенсу. \n",
    "\n",
    "Але після того, як ми додали bathch norm модель стала тренуватись гірше, що говорить нам про те, що нормалізувати дані в середині нам не треба. \n",
    "Аналогічно з другим фільтровим шаром. Його наявність не сильно покращую модель, що говорить про те, що він нам не треба"
   ]
  },
  {
   "cell_type": "code",
   "execution_count": null,
   "id": "668f7b17",
   "metadata": {
    "papermill": {
     "duration": 0.120189,
     "end_time": "2023-12-13T06:32:53.318312",
     "exception": false,
     "start_time": "2023-12-13T06:32:53.198123",
     "status": "completed"
    },
    "tags": []
   },
   "outputs": [],
   "source": []
  }
 ],
 "metadata": {
  "kaggle": {
   "accelerator": "none",
   "dataSources": [
    {
     "datasetId": 30424,
     "sourceId": 38771,
     "sourceType": "datasetVersion"
    }
   ],
   "dockerImageVersionId": 30615,
   "isGpuEnabled": false,
   "isInternetEnabled": true,
   "language": "python",
   "sourceType": "notebook"
  },
  "kernelspec": {
   "display_name": "Python 3",
   "language": "python",
   "name": "python3"
  },
  "language_info": {
   "codemirror_mode": {
    "name": "ipython",
    "version": 3
   },
   "file_extension": ".py",
   "mimetype": "text/x-python",
   "name": "python",
   "nbconvert_exporter": "python",
   "pygments_lexer": "ipython3",
   "version": "3.10.12"
  },
  "papermill": {
   "default_parameters": {},
   "duration": 252.99413,
   "end_time": "2023-12-13T06:32:56.562694",
   "environment_variables": {},
   "exception": null,
   "input_path": "__notebook__.ipynb",
   "output_path": "__notebook__.ipynb",
   "parameters": {},
   "start_time": "2023-12-13T06:28:43.568564",
   "version": "2.4.0"
  }
 },
 "nbformat": 4,
 "nbformat_minor": 5
}
